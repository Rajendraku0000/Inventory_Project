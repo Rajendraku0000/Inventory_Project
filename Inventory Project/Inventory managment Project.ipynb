{
 "cells": [
  {
   "cell_type": "code",
   "execution_count": 1,
   "id": "cc225a4d",
   "metadata": {},
   "outputs": [],
   "source": [
    "import numpy as np\n",
    "import pandas as pd"
   ]
  },
  {
   "cell_type": "code",
   "execution_count": 2,
   "id": "7ba17526",
   "metadata": {},
   "outputs": [],
   "source": [
    "df=pd.read_excel(\"C:\\\\Users\\\\rajen\\\\OneDrive\\\\Desktop\\\\inventory.xlsx\")"
   ]
  },
  {
   "cell_type": "code",
   "execution_count": 3,
   "id": "697ab297",
   "metadata": {},
   "outputs": [
    {
     "data": {
      "text/html": [
       "<div>\n",
       "<style scoped>\n",
       "    .dataframe tbody tr th:only-of-type {\n",
       "        vertical-align: middle;\n",
       "    }\n",
       "\n",
       "    .dataframe tbody tr th {\n",
       "        vertical-align: top;\n",
       "    }\n",
       "\n",
       "    .dataframe thead th {\n",
       "        text-align: right;\n",
       "    }\n",
       "</style>\n",
       "<table border=\"1\" class=\"dataframe\">\n",
       "  <thead>\n",
       "    <tr style=\"text-align: right;\">\n",
       "      <th></th>\n",
       "      <th>DATE</th>\n",
       "      <th>Product</th>\n",
       "      <th>Sales_Quantity</th>\n",
       "      <th>CFG</th>\n",
       "      <th>CHANNEL_ID</th>\n",
       "      <th>PRODUCT_ID</th>\n",
       "      <th>Model_NAME</th>\n",
       "      <th>SCHEDULER_NAME</th>\n",
       "      <th>Pending_Order</th>\n",
       "      <th>Target</th>\n",
       "    </tr>\n",
       "  </thead>\n",
       "  <tbody>\n",
       "    <tr>\n",
       "      <th>350</th>\n",
       "      <td>2016-08-06</td>\n",
       "      <td>ODD</td>\n",
       "      <td>13</td>\n",
       "      <td>RMSD_9_5_DVDRW_SATA_Bare_Std</td>\n",
       "      <td>2190</td>\n",
       "      <td>61709</td>\n",
       "      <td>TAHOESFFBTX</td>\n",
       "      <td>BTX_VOSTRO_DESKTOPS</td>\n",
       "      <td>61</td>\n",
       "      <td>Bad</td>\n",
       "    </tr>\n",
       "    <tr>\n",
       "      <th>2232</th>\n",
       "      <td>2016-08-20</td>\n",
       "      <td>ODD Mechanical</td>\n",
       "      <td>13</td>\n",
       "      <td>63PDH_CFG</td>\n",
       "      <td>2190</td>\n",
       "      <td>61339</td>\n",
       "      <td>MIRAMAR 15</td>\n",
       "      <td>J_NOLAN</td>\n",
       "      <td>0</td>\n",
       "      <td>Good</td>\n",
       "    </tr>\n",
       "    <tr>\n",
       "      <th>2866</th>\n",
       "      <td>2016-02-13</td>\n",
       "      <td>ODD</td>\n",
       "      <td>13</td>\n",
       "      <td>RMSD_12_7_DVDRW_SATA_Fleming uSFF</td>\n",
       "      <td>30000</td>\n",
       "      <td>54091</td>\n",
       "      <td>TIGRISSFFBTX</td>\n",
       "      <td>BTX_OPTIPLEX_DESKTOPS</td>\n",
       "      <td>8</td>\n",
       "      <td>Normal</td>\n",
       "    </tr>\n",
       "    <tr>\n",
       "      <th>2313</th>\n",
       "      <td>2016-08-13</td>\n",
       "      <td>Keyboard_NBK</td>\n",
       "      <td>17</td>\n",
       "      <td>nbkybd_ENDB3_WIN8_US_E5</td>\n",
       "      <td>1865</td>\n",
       "      <td>57374</td>\n",
       "      <td>FIGTREETAA1</td>\n",
       "      <td>SIEW_AIK_TAN(KYBD_RELATIONSHIPNB)</td>\n",
       "      <td>0</td>\n",
       "      <td>Good</td>\n",
       "    </tr>\n",
       "    <tr>\n",
       "      <th>2073</th>\n",
       "      <td>2016-11-19</td>\n",
       "      <td>ODD Mechanical</td>\n",
       "      <td>13</td>\n",
       "      <td>4270E_CFG</td>\n",
       "      <td>5000948</td>\n",
       "      <td>68338</td>\n",
       "      <td>ROUND ROCKMLKCTO</td>\n",
       "      <td>NUR_WARDAH_UMAR</td>\n",
       "      <td>1</td>\n",
       "      <td>Good</td>\n",
       "    </tr>\n",
       "  </tbody>\n",
       "</table>\n",
       "</div>"
      ],
      "text/plain": [
       "           DATE         Product  Sales_Quantity  \\\n",
       "350  2016-08-06             ODD              13   \n",
       "2232 2016-08-20  ODD Mechanical              13   \n",
       "2866 2016-02-13             ODD              13   \n",
       "2313 2016-08-13    Keyboard_NBK              17   \n",
       "2073 2016-11-19  ODD Mechanical              13   \n",
       "\n",
       "                                    CFG  CHANNEL_ID  PRODUCT_ID  \\\n",
       "350        RMSD_9_5_DVDRW_SATA_Bare_Std        2190       61709   \n",
       "2232                          63PDH_CFG        2190       61339   \n",
       "2866  RMSD_12_7_DVDRW_SATA_Fleming uSFF       30000       54091   \n",
       "2313            nbkybd_ENDB3_WIN8_US_E5        1865       57374   \n",
       "2073                          4270E_CFG     5000948       68338   \n",
       "\n",
       "            Model_NAME                     SCHEDULER_NAME  Pending_Order  \\\n",
       "350        TAHOESFFBTX                BTX_VOSTRO_DESKTOPS             61   \n",
       "2232        MIRAMAR 15                            J_NOLAN              0   \n",
       "2866      TIGRISSFFBTX              BTX_OPTIPLEX_DESKTOPS              8   \n",
       "2313       FIGTREETAA1  SIEW_AIK_TAN(KYBD_RELATIONSHIPNB)              0   \n",
       "2073  ROUND ROCKMLKCTO                    NUR_WARDAH_UMAR              1   \n",
       "\n",
       "      Target  \n",
       "350      Bad  \n",
       "2232    Good  \n",
       "2866  Normal  \n",
       "2313    Good  \n",
       "2073    Good  "
      ]
     },
     "execution_count": 3,
     "metadata": {},
     "output_type": "execute_result"
    }
   ],
   "source": [
    "df.sample(5)"
   ]
  },
  {
   "cell_type": "code",
   "execution_count": null,
   "id": "04ba9f51",
   "metadata": {},
   "outputs": [],
   "source": []
  },
  {
   "cell_type": "code",
   "execution_count": null,
   "id": "86aa0425",
   "metadata": {},
   "outputs": [],
   "source": []
  },
  {
   "cell_type": "code",
   "execution_count": 5,
   "id": "94ddbfad",
   "metadata": {},
   "outputs": [
    {
     "name": "stderr",
     "output_type": "stream",
     "text": [
      "C:\\Users\\rajen\\AppData\\Local\\Temp\\ipykernel_4816\\3730845408.py:9: SettingWithCopyWarning: \n",
      "A value is trying to be set on a copy of a slice from a DataFrame\n",
      "\n",
      "See the caveats in the documentation: https://pandas.pydata.org/pandas-docs/stable/user_guide/indexing.html#returning-a-view-versus-a-copy\n",
      "  df[\"Pending_Order\"][i]=np.random.randint(100,150)\n",
      "C:\\Users\\rajen\\AppData\\Local\\Temp\\ipykernel_4816\\3730845408.py:3: SettingWithCopyWarning: \n",
      "A value is trying to be set on a copy of a slice from a DataFrame\n",
      "\n",
      "See the caveats in the documentation: https://pandas.pydata.org/pandas-docs/stable/user_guide/indexing.html#returning-a-view-versus-a-copy\n",
      "  df[\"Pending_Order\"][i]=np.random.randint(1,50)\n",
      "C:\\Users\\rajen\\AppData\\Local\\Temp\\ipykernel_4816\\3730845408.py:6: SettingWithCopyWarning: \n",
      "A value is trying to be set on a copy of a slice from a DataFrame\n",
      "\n",
      "See the caveats in the documentation: https://pandas.pydata.org/pandas-docs/stable/user_guide/indexing.html#returning-a-view-versus-a-copy\n",
      "  df[\"Pending_Order\"][i]=np.random.randint(50,100)\n",
      "C:\\Users\\rajen\\AppData\\Local\\Temp\\ipykernel_4816\\3730845408.py:12: SettingWithCopyWarning: \n",
      "A value is trying to be set on a copy of a slice from a DataFrame\n",
      "\n",
      "See the caveats in the documentation: https://pandas.pydata.org/pandas-docs/stable/user_guide/indexing.html#returning-a-view-versus-a-copy\n",
      "  df[\"Pending_Order\"][i]=np.random.randint(150,200)\n"
     ]
    }
   ],
   "source": [
    "for i in range(df.shape[0]):\n",
    "    if df[\"Target\"][i]==\"Bad\":\n",
    "        df[\"Pending_Order\"][i]=np.random.randint(1,50)\n",
    "    \n",
    "    if df[\"Target\"][i]==\"Normal\":\n",
    "        df[\"Pending_Order\"][i]=np.random.randint(50,100)\n",
    "    \n",
    "    if df[\"Target\"][i]==\"Good\":\n",
    "        df[\"Pending_Order\"][i]=np.random.randint(100,150)\n",
    "    \n",
    "    if df[\"Target\"][i]==\"Fair\":\n",
    "        df[\"Pending_Order\"][i]=np.random.randint(150,200)\n",
    "    \n",
    "    "
   ]
  },
  {
   "cell_type": "code",
   "execution_count": null,
   "id": "daea3e8e",
   "metadata": {},
   "outputs": [],
   "source": []
  },
  {
   "cell_type": "code",
   "execution_count": null,
   "id": "e3d86cb6",
   "metadata": {},
   "outputs": [],
   "source": []
  },
  {
   "cell_type": "code",
   "execution_count": 6,
   "id": "48e92c0d",
   "metadata": {},
   "outputs": [],
   "source": [
    "# df.to_excel(\"newdata.xlsx\")"
   ]
  },
  {
   "cell_type": "code",
   "execution_count": 82,
   "id": "c05cbcca",
   "metadata": {},
   "outputs": [],
   "source": [
    "df1=pd.read_excel(\"C:\\\\Users\\\\rajen\\\\OneDrive\\\\Desktop\\\\newdata.xlsx\")"
   ]
  },
  {
   "cell_type": "code",
   "execution_count": 83,
   "id": "6afa1638",
   "metadata": {},
   "outputs": [
    {
     "data": {
      "text/html": [
       "<div>\n",
       "<style scoped>\n",
       "    .dataframe tbody tr th:only-of-type {\n",
       "        vertical-align: middle;\n",
       "    }\n",
       "\n",
       "    .dataframe tbody tr th {\n",
       "        vertical-align: top;\n",
       "    }\n",
       "\n",
       "    .dataframe thead th {\n",
       "        text-align: right;\n",
       "    }\n",
       "</style>\n",
       "<table border=\"1\" class=\"dataframe\">\n",
       "  <thead>\n",
       "    <tr style=\"text-align: right;\">\n",
       "      <th></th>\n",
       "      <th>Store_Code</th>\n",
       "      <th>Product</th>\n",
       "      <th>Sales_Quantity</th>\n",
       "      <th>Pending_Order</th>\n",
       "      <th>Demand</th>\n",
       "    </tr>\n",
       "  </thead>\n",
       "  <tbody>\n",
       "    <tr>\n",
       "      <th>0</th>\n",
       "      <td>7</td>\n",
       "      <td>ODD</td>\n",
       "      <td>13</td>\n",
       "      <td>148</td>\n",
       "      <td>Good</td>\n",
       "    </tr>\n",
       "    <tr>\n",
       "      <th>1</th>\n",
       "      <td>1</td>\n",
       "      <td>ODM Mechanical</td>\n",
       "      <td>13</td>\n",
       "      <td>1</td>\n",
       "      <td>Bad</td>\n",
       "    </tr>\n",
       "    <tr>\n",
       "      <th>2</th>\n",
       "      <td>2</td>\n",
       "      <td>ODD Mechanical</td>\n",
       "      <td>13</td>\n",
       "      <td>16</td>\n",
       "      <td>Bad</td>\n",
       "    </tr>\n",
       "    <tr>\n",
       "      <th>3</th>\n",
       "      <td>13</td>\n",
       "      <td>Battery</td>\n",
       "      <td>13</td>\n",
       "      <td>11</td>\n",
       "      <td>Bad</td>\n",
       "    </tr>\n",
       "    <tr>\n",
       "      <th>4</th>\n",
       "      <td>12</td>\n",
       "      <td>MOUSE</td>\n",
       "      <td>8</td>\n",
       "      <td>58</td>\n",
       "      <td>Normal</td>\n",
       "    </tr>\n",
       "    <tr>\n",
       "      <th>...</th>\n",
       "      <td>...</td>\n",
       "      <td>...</td>\n",
       "      <td>...</td>\n",
       "      <td>...</td>\n",
       "      <td>...</td>\n",
       "    </tr>\n",
       "    <tr>\n",
       "      <th>2994</th>\n",
       "      <td>11</td>\n",
       "      <td>Nic Card</td>\n",
       "      <td>22</td>\n",
       "      <td>108</td>\n",
       "      <td>Good</td>\n",
       "    </tr>\n",
       "    <tr>\n",
       "      <th>2995</th>\n",
       "      <td>1</td>\n",
       "      <td>HDD_NB_DT</td>\n",
       "      <td>8</td>\n",
       "      <td>135</td>\n",
       "      <td>Good</td>\n",
       "    </tr>\n",
       "    <tr>\n",
       "      <th>2996</th>\n",
       "      <td>2</td>\n",
       "      <td>Cable</td>\n",
       "      <td>13</td>\n",
       "      <td>132</td>\n",
       "      <td>Good</td>\n",
       "    </tr>\n",
       "    <tr>\n",
       "      <th>2997</th>\n",
       "      <td>1</td>\n",
       "      <td>Battery</td>\n",
       "      <td>13</td>\n",
       "      <td>121</td>\n",
       "      <td>Good</td>\n",
       "    </tr>\n",
       "    <tr>\n",
       "      <th>2998</th>\n",
       "      <td>2</td>\n",
       "      <td>Memory</td>\n",
       "      <td>13</td>\n",
       "      <td>6</td>\n",
       "      <td>Bad</td>\n",
       "    </tr>\n",
       "  </tbody>\n",
       "</table>\n",
       "<p>2999 rows × 5 columns</p>\n",
       "</div>"
      ],
      "text/plain": [
       "      Store_Code         Product  Sales_Quantity  Pending_Order  Demand\n",
       "0              7             ODD              13            148    Good\n",
       "1              1  ODM Mechanical              13              1     Bad\n",
       "2              2  ODD Mechanical              13             16     Bad\n",
       "3             13         Battery              13             11     Bad\n",
       "4             12           MOUSE               8             58  Normal\n",
       "...          ...             ...             ...            ...     ...\n",
       "2994          11        Nic Card              22            108    Good\n",
       "2995           1       HDD_NB_DT               8            135    Good\n",
       "2996           2           Cable              13            132    Good\n",
       "2997           1         Battery              13            121    Good\n",
       "2998           2          Memory              13              6     Bad\n",
       "\n",
       "[2999 rows x 5 columns]"
      ]
     },
     "execution_count": 83,
     "metadata": {},
     "output_type": "execute_result"
    }
   ],
   "source": [
    "df1"
   ]
  },
  {
   "cell_type": "code",
   "execution_count": null,
   "id": "85616f16",
   "metadata": {},
   "outputs": [],
   "source": []
  },
  {
   "cell_type": "code",
   "execution_count": null,
   "id": "c6293c19",
   "metadata": {},
   "outputs": [],
   "source": []
  },
  {
   "cell_type": "code",
   "execution_count": 84,
   "id": "31fac3e4",
   "metadata": {},
   "outputs": [],
   "source": [
    "from sklearn.preprocessing import OrdinalEncoder"
   ]
  },
  {
   "cell_type": "code",
   "execution_count": 85,
   "id": "1c274cd4",
   "metadata": {},
   "outputs": [],
   "source": [
    "oe=OrdinalEncoder(categories=[['Adaptar', 'Battery', 'CORD', 'Cable', 'Carrying Case',\n",
    "       'Carrying case', 'Controller Card', 'Docking', 'Graphic Card',\n",
    "       'HDD_NB_DT', 'Keyboard_DT', 'Keyboard_NBK', 'LCD', 'MOUSE',\n",
    "       'Memory', 'Network Card', 'Nic Card', 'ODD', 'ODD Mechanical',\n",
    "       'ODM Mechanical', 'Projector', 'SSD_NB_DT', 'Security Lock',\n",
    "       'Speaker', 'Wireless',\"Adapter\"]])"
   ]
  },
  {
   "cell_type": "code",
   "execution_count": 86,
   "id": "1b6e36c4",
   "metadata": {},
   "outputs": [],
   "source": [
    "df1[\"Product\"]=oe.fit_transform(df1[[\"Product\"]])"
   ]
  },
  {
   "cell_type": "code",
   "execution_count": 87,
   "id": "ba8cad9d",
   "metadata": {
    "scrolled": true
   },
   "outputs": [
    {
     "data": {
      "text/html": [
       "<div>\n",
       "<style scoped>\n",
       "    .dataframe tbody tr th:only-of-type {\n",
       "        vertical-align: middle;\n",
       "    }\n",
       "\n",
       "    .dataframe tbody tr th {\n",
       "        vertical-align: top;\n",
       "    }\n",
       "\n",
       "    .dataframe thead th {\n",
       "        text-align: right;\n",
       "    }\n",
       "</style>\n",
       "<table border=\"1\" class=\"dataframe\">\n",
       "  <thead>\n",
       "    <tr style=\"text-align: right;\">\n",
       "      <th></th>\n",
       "      <th>Store_Code</th>\n",
       "      <th>Product</th>\n",
       "      <th>Sales_Quantity</th>\n",
       "      <th>Pending_Order</th>\n",
       "      <th>Demand</th>\n",
       "    </tr>\n",
       "  </thead>\n",
       "  <tbody>\n",
       "    <tr>\n",
       "      <th>0</th>\n",
       "      <td>7</td>\n",
       "      <td>17.0</td>\n",
       "      <td>13</td>\n",
       "      <td>148</td>\n",
       "      <td>Good</td>\n",
       "    </tr>\n",
       "    <tr>\n",
       "      <th>1</th>\n",
       "      <td>1</td>\n",
       "      <td>19.0</td>\n",
       "      <td>13</td>\n",
       "      <td>1</td>\n",
       "      <td>Bad</td>\n",
       "    </tr>\n",
       "    <tr>\n",
       "      <th>2</th>\n",
       "      <td>2</td>\n",
       "      <td>18.0</td>\n",
       "      <td>13</td>\n",
       "      <td>16</td>\n",
       "      <td>Bad</td>\n",
       "    </tr>\n",
       "    <tr>\n",
       "      <th>3</th>\n",
       "      <td>13</td>\n",
       "      <td>1.0</td>\n",
       "      <td>13</td>\n",
       "      <td>11</td>\n",
       "      <td>Bad</td>\n",
       "    </tr>\n",
       "    <tr>\n",
       "      <th>4</th>\n",
       "      <td>12</td>\n",
       "      <td>13.0</td>\n",
       "      <td>8</td>\n",
       "      <td>58</td>\n",
       "      <td>Normal</td>\n",
       "    </tr>\n",
       "    <tr>\n",
       "      <th>...</th>\n",
       "      <td>...</td>\n",
       "      <td>...</td>\n",
       "      <td>...</td>\n",
       "      <td>...</td>\n",
       "      <td>...</td>\n",
       "    </tr>\n",
       "    <tr>\n",
       "      <th>2994</th>\n",
       "      <td>11</td>\n",
       "      <td>16.0</td>\n",
       "      <td>22</td>\n",
       "      <td>108</td>\n",
       "      <td>Good</td>\n",
       "    </tr>\n",
       "    <tr>\n",
       "      <th>2995</th>\n",
       "      <td>1</td>\n",
       "      <td>9.0</td>\n",
       "      <td>8</td>\n",
       "      <td>135</td>\n",
       "      <td>Good</td>\n",
       "    </tr>\n",
       "    <tr>\n",
       "      <th>2996</th>\n",
       "      <td>2</td>\n",
       "      <td>3.0</td>\n",
       "      <td>13</td>\n",
       "      <td>132</td>\n",
       "      <td>Good</td>\n",
       "    </tr>\n",
       "    <tr>\n",
       "      <th>2997</th>\n",
       "      <td>1</td>\n",
       "      <td>1.0</td>\n",
       "      <td>13</td>\n",
       "      <td>121</td>\n",
       "      <td>Good</td>\n",
       "    </tr>\n",
       "    <tr>\n",
       "      <th>2998</th>\n",
       "      <td>2</td>\n",
       "      <td>14.0</td>\n",
       "      <td>13</td>\n",
       "      <td>6</td>\n",
       "      <td>Bad</td>\n",
       "    </tr>\n",
       "  </tbody>\n",
       "</table>\n",
       "<p>2999 rows × 5 columns</p>\n",
       "</div>"
      ],
      "text/plain": [
       "      Store_Code  Product  Sales_Quantity  Pending_Order  Demand\n",
       "0              7     17.0              13            148    Good\n",
       "1              1     19.0              13              1     Bad\n",
       "2              2     18.0              13             16     Bad\n",
       "3             13      1.0              13             11     Bad\n",
       "4             12     13.0               8             58  Normal\n",
       "...          ...      ...             ...            ...     ...\n",
       "2994          11     16.0              22            108    Good\n",
       "2995           1      9.0               8            135    Good\n",
       "2996           2      3.0              13            132    Good\n",
       "2997           1      1.0              13            121    Good\n",
       "2998           2     14.0              13              6     Bad\n",
       "\n",
       "[2999 rows x 5 columns]"
      ]
     },
     "execution_count": 87,
     "metadata": {},
     "output_type": "execute_result"
    }
   ],
   "source": [
    "df1"
   ]
  },
  {
   "cell_type": "code",
   "execution_count": 88,
   "id": "479914b3",
   "metadata": {},
   "outputs": [],
   "source": [
    "# df1[\"Product\"]=df1[\"Product\"].astype(int)"
   ]
  },
  {
   "cell_type": "code",
   "execution_count": 89,
   "id": "49000351",
   "metadata": {},
   "outputs": [
    {
     "data": {
      "text/plain": [
       "Store_Code        0\n",
       "Product           0\n",
       "Sales_Quantity    0\n",
       "Pending_Order     0\n",
       "Demand            0\n",
       "dtype: int64"
      ]
     },
     "execution_count": 89,
     "metadata": {},
     "output_type": "execute_result"
    }
   ],
   "source": [
    "df1.isnull().sum()"
   ]
  },
  {
   "cell_type": "code",
   "execution_count": 90,
   "id": "73606007",
   "metadata": {},
   "outputs": [
    {
     "name": "stdout",
     "output_type": "stream",
     "text": [
      "(2999, 4)\n",
      "(2999,)\n"
     ]
    }
   ],
   "source": [
    "x=df1.iloc[:,:4]\n",
    "y=df1.iloc[:,4]\n",
    "print(x.shape)\n",
    "print(y.shape)"
   ]
  },
  {
   "cell_type": "code",
   "execution_count": 91,
   "id": "1901d729",
   "metadata": {},
   "outputs": [],
   "source": [
    "from sklearn.model_selection import train_test_split"
   ]
  },
  {
   "cell_type": "code",
   "execution_count": 92,
   "id": "302d33f8",
   "metadata": {},
   "outputs": [],
   "source": [
    "x_train,x_test,y_train,y_test=train_test_split(x,y,test_size=0.2)"
   ]
  },
  {
   "cell_type": "code",
   "execution_count": 93,
   "id": "16c22685",
   "metadata": {},
   "outputs": [
    {
     "data": {
      "text/plain": [
       "Store_Code        0.756010\n",
       "Product          -0.348764\n",
       "Sales_Quantity    0.458214\n",
       "Pending_Order    -0.500976\n",
       "dtype: float64"
      ]
     },
     "execution_count": 93,
     "metadata": {},
     "output_type": "execute_result"
    }
   ],
   "source": [
    "x_train.skew()"
   ]
  },
  {
   "cell_type": "code",
   "execution_count": null,
   "id": "e9f45d58",
   "metadata": {},
   "outputs": [],
   "source": []
  },
  {
   "cell_type": "code",
   "execution_count": 94,
   "id": "dfbe968d",
   "metadata": {},
   "outputs": [],
   "source": [
    "from sklearn.preprocessing import PowerTransformer\n",
    "from sklearn.preprocessing import LabelEncoder"
   ]
  },
  {
   "cell_type": "code",
   "execution_count": 95,
   "id": "845a1209",
   "metadata": {},
   "outputs": [],
   "source": [
    "ft=PowerTransformer(method=\"yeo-johnson\")\n",
    "le=LabelEncoder()"
   ]
  },
  {
   "cell_type": "code",
   "execution_count": 96,
   "id": "2b26fdff",
   "metadata": {},
   "outputs": [],
   "source": [
    "x_train_new=ft.fit_transform(x_train)\n",
    "y_train_new=le.fit_transform(y_train)"
   ]
  },
  {
   "cell_type": "code",
   "execution_count": 97,
   "id": "076653fc",
   "metadata": {},
   "outputs": [],
   "source": [
    "x_test_new=ft.transform(x_test)\n",
    "y_test_new=le.transform(y_test)"
   ]
  },
  {
   "cell_type": "code",
   "execution_count": 98,
   "id": "19779fb7",
   "metadata": {},
   "outputs": [],
   "source": [
    "x_train_new_abc=pd.DataFrame(x_train_new)"
   ]
  },
  {
   "cell_type": "code",
   "execution_count": 99,
   "id": "3cf706b8",
   "metadata": {},
   "outputs": [
    {
     "data": {
      "text/plain": [
       "0    0.116070\n",
       "1   -0.371068\n",
       "2   -0.009132\n",
       "3   -0.468872\n",
       "dtype: float64"
      ]
     },
     "execution_count": 99,
     "metadata": {},
     "output_type": "execute_result"
    }
   ],
   "source": [
    "x_train_new_abc.skew()"
   ]
  },
  {
   "cell_type": "markdown",
   "id": "9a4e406c",
   "metadata": {},
   "source": [
    "# RandomForestRegressor"
   ]
  },
  {
   "cell_type": "code",
   "execution_count": 100,
   "id": "b1186937",
   "metadata": {},
   "outputs": [],
   "source": [
    "from sklearn.ensemble import RandomForestClassifier"
   ]
  },
  {
   "cell_type": "code",
   "execution_count": 101,
   "id": "47901a75",
   "metadata": {},
   "outputs": [],
   "source": [
    "rfc=RandomForestClassifier(n_estimators=50)\n",
    "rfc.fit(x_train_new,y_train_new)\n",
    "y_pred=rfc.predict(x_test_new)"
   ]
  },
  {
   "cell_type": "code",
   "execution_count": 102,
   "id": "67176fa0",
   "metadata": {},
   "outputs": [],
   "source": [
    "from sklearn.metrics import accuracy_score\n",
    "from sklearn.metrics import r2_score"
   ]
  },
  {
   "cell_type": "code",
   "execution_count": 103,
   "id": "341fa1c9",
   "metadata": {},
   "outputs": [
    {
     "data": {
      "text/plain": [
       "0.9983039156933027"
      ]
     },
     "execution_count": 103,
     "metadata": {},
     "output_type": "execute_result"
    }
   ],
   "source": [
    "r2_score(y_test_new,y_pred)"
   ]
  },
  {
   "cell_type": "code",
   "execution_count": 104,
   "id": "8ba89c30",
   "metadata": {
    "scrolled": true
   },
   "outputs": [
    {
     "data": {
      "text/plain": [
       "0.9983333333333333"
      ]
     },
     "execution_count": 104,
     "metadata": {},
     "output_type": "execute_result"
    }
   ],
   "source": [
    "accuracy_score(y_test_new,y_pred)"
   ]
  },
  {
   "cell_type": "markdown",
   "id": "bbdc7264",
   "metadata": {},
   "source": [
    "# logisticRegression"
   ]
  },
  {
   "cell_type": "code",
   "execution_count": 105,
   "id": "99ae32dc",
   "metadata": {},
   "outputs": [],
   "source": [
    "from sklearn.linear_model import LogisticRegression"
   ]
  },
  {
   "cell_type": "code",
   "execution_count": 106,
   "id": "5dbe43db",
   "metadata": {},
   "outputs": [],
   "source": [
    "lr=LogisticRegression()"
   ]
  },
  {
   "cell_type": "code",
   "execution_count": 107,
   "id": "b89b7b3c",
   "metadata": {},
   "outputs": [
    {
     "data": {
      "text/html": [
       "<style>#sk-container-id-3 {color: black;background-color: white;}#sk-container-id-3 pre{padding: 0;}#sk-container-id-3 div.sk-toggleable {background-color: white;}#sk-container-id-3 label.sk-toggleable__label {cursor: pointer;display: block;width: 100%;margin-bottom: 0;padding: 0.3em;box-sizing: border-box;text-align: center;}#sk-container-id-3 label.sk-toggleable__label-arrow:before {content: \"▸\";float: left;margin-right: 0.25em;color: #696969;}#sk-container-id-3 label.sk-toggleable__label-arrow:hover:before {color: black;}#sk-container-id-3 div.sk-estimator:hover label.sk-toggleable__label-arrow:before {color: black;}#sk-container-id-3 div.sk-toggleable__content {max-height: 0;max-width: 0;overflow: hidden;text-align: left;background-color: #f0f8ff;}#sk-container-id-3 div.sk-toggleable__content pre {margin: 0.2em;color: black;border-radius: 0.25em;background-color: #f0f8ff;}#sk-container-id-3 input.sk-toggleable__control:checked~div.sk-toggleable__content {max-height: 200px;max-width: 100%;overflow: auto;}#sk-container-id-3 input.sk-toggleable__control:checked~label.sk-toggleable__label-arrow:before {content: \"▾\";}#sk-container-id-3 div.sk-estimator input.sk-toggleable__control:checked~label.sk-toggleable__label {background-color: #d4ebff;}#sk-container-id-3 div.sk-label input.sk-toggleable__control:checked~label.sk-toggleable__label {background-color: #d4ebff;}#sk-container-id-3 input.sk-hidden--visually {border: 0;clip: rect(1px 1px 1px 1px);clip: rect(1px, 1px, 1px, 1px);height: 1px;margin: -1px;overflow: hidden;padding: 0;position: absolute;width: 1px;}#sk-container-id-3 div.sk-estimator {font-family: monospace;background-color: #f0f8ff;border: 1px dotted black;border-radius: 0.25em;box-sizing: border-box;margin-bottom: 0.5em;}#sk-container-id-3 div.sk-estimator:hover {background-color: #d4ebff;}#sk-container-id-3 div.sk-parallel-item::after {content: \"\";width: 100%;border-bottom: 1px solid gray;flex-grow: 1;}#sk-container-id-3 div.sk-label:hover label.sk-toggleable__label {background-color: #d4ebff;}#sk-container-id-3 div.sk-serial::before {content: \"\";position: absolute;border-left: 1px solid gray;box-sizing: border-box;top: 0;bottom: 0;left: 50%;z-index: 0;}#sk-container-id-3 div.sk-serial {display: flex;flex-direction: column;align-items: center;background-color: white;padding-right: 0.2em;padding-left: 0.2em;position: relative;}#sk-container-id-3 div.sk-item {position: relative;z-index: 1;}#sk-container-id-3 div.sk-parallel {display: flex;align-items: stretch;justify-content: center;background-color: white;position: relative;}#sk-container-id-3 div.sk-item::before, #sk-container-id-3 div.sk-parallel-item::before {content: \"\";position: absolute;border-left: 1px solid gray;box-sizing: border-box;top: 0;bottom: 0;left: 50%;z-index: -1;}#sk-container-id-3 div.sk-parallel-item {display: flex;flex-direction: column;z-index: 1;position: relative;background-color: white;}#sk-container-id-3 div.sk-parallel-item:first-child::after {align-self: flex-end;width: 50%;}#sk-container-id-3 div.sk-parallel-item:last-child::after {align-self: flex-start;width: 50%;}#sk-container-id-3 div.sk-parallel-item:only-child::after {width: 0;}#sk-container-id-3 div.sk-dashed-wrapped {border: 1px dashed gray;margin: 0 0.4em 0.5em 0.4em;box-sizing: border-box;padding-bottom: 0.4em;background-color: white;}#sk-container-id-3 div.sk-label label {font-family: monospace;font-weight: bold;display: inline-block;line-height: 1.2em;}#sk-container-id-3 div.sk-label-container {text-align: center;}#sk-container-id-3 div.sk-container {/* jupyter's `normalize.less` sets `[hidden] { display: none; }` but bootstrap.min.css set `[hidden] { display: none !important; }` so we also need the `!important` here to be able to override the default hidden behavior on the sphinx rendered scikit-learn.org. See: https://github.com/scikit-learn/scikit-learn/issues/21755 */display: inline-block !important;position: relative;}#sk-container-id-3 div.sk-text-repr-fallback {display: none;}</style><div id=\"sk-container-id-3\" class=\"sk-top-container\"><div class=\"sk-text-repr-fallback\"><pre>LogisticRegression()</pre><b>In a Jupyter environment, please rerun this cell to show the HTML representation or trust the notebook. <br />On GitHub, the HTML representation is unable to render, please try loading this page with nbviewer.org.</b></div><div class=\"sk-container\" hidden><div class=\"sk-item\"><div class=\"sk-estimator sk-toggleable\"><input class=\"sk-toggleable__control sk-hidden--visually\" id=\"sk-estimator-id-7\" type=\"checkbox\" checked><label for=\"sk-estimator-id-7\" class=\"sk-toggleable__label sk-toggleable__label-arrow\">LogisticRegression</label><div class=\"sk-toggleable__content\"><pre>LogisticRegression()</pre></div></div></div></div></div>"
      ],
      "text/plain": [
       "LogisticRegression()"
      ]
     },
     "execution_count": 107,
     "metadata": {},
     "output_type": "execute_result"
    }
   ],
   "source": [
    "lr.fit(x_train_new,y_train_new)"
   ]
  },
  {
   "cell_type": "code",
   "execution_count": 108,
   "id": "4c2243d2",
   "metadata": {},
   "outputs": [],
   "source": [
    "y_pred2=lr.predict(x_test_new)"
   ]
  },
  {
   "cell_type": "code",
   "execution_count": 109,
   "id": "af17e6c7",
   "metadata": {},
   "outputs": [
    {
     "name": "stdout",
     "output_type": "stream",
     "text": [
      "0.9694704824794491\n"
     ]
    }
   ],
   "source": [
    "print(r2_score(y_test_new,y_pred2))"
   ]
  },
  {
   "cell_type": "code",
   "execution_count": 110,
   "id": "a89d76c4",
   "metadata": {},
   "outputs": [
    {
     "name": "stdout",
     "output_type": "stream",
     "text": [
      "0.9833333333333333\n"
     ]
    }
   ],
   "source": [
    "print(accuracy_score(y_test_new,y_pred2))"
   ]
  },
  {
   "cell_type": "markdown",
   "id": "b1205046",
   "metadata": {},
   "source": [
    "# "
   ]
  },
  {
   "cell_type": "markdown",
   "id": "46d8d797",
   "metadata": {},
   "source": [
    "# SupportVectorMachine "
   ]
  },
  {
   "cell_type": "code",
   "execution_count": 111,
   "id": "7270d4f6",
   "metadata": {},
   "outputs": [],
   "source": [
    "from sklearn.svm import SVC"
   ]
  },
  {
   "cell_type": "code",
   "execution_count": 41,
   "id": "eff32eff",
   "metadata": {},
   "outputs": [],
   "source": [
    "obj=SVC()"
   ]
  },
  {
   "cell_type": "code",
   "execution_count": 42,
   "id": "a9b007b7",
   "metadata": {},
   "outputs": [],
   "source": [
    "obj.fit(x_train_new,y_train_new)\n",
    "y_pred3=obj.predict(x_test_new)"
   ]
  },
  {
   "cell_type": "code",
   "execution_count": 43,
   "id": "353966b7",
   "metadata": {},
   "outputs": [
    {
     "name": "stdout",
     "output_type": "stream",
     "text": [
      "0.8844224466590863\n",
      "0.9733333333333334\n"
     ]
    }
   ],
   "source": [
    "print(r2_score(y_test_new,y_pred3))\n",
    "print(accuracy_score(y_test_new,y_pred3))"
   ]
  },
  {
   "cell_type": "code",
   "execution_count": null,
   "id": "432589a2",
   "metadata": {},
   "outputs": [],
   "source": []
  },
  {
   "cell_type": "markdown",
   "id": "f2164ffc",
   "metadata": {},
   "source": [
    "# Votting Ensemble "
   ]
  },
  {
   "cell_type": "code",
   "execution_count": 44,
   "id": "6d76cbdb",
   "metadata": {},
   "outputs": [],
   "source": [
    "# from sklearn.ensemble import VottingClassifier\n",
    "from sklearn.ensemble import VotingClassifier\n",
    "from sklearn.tree import DecisionTreeClassifier"
   ]
  },
  {
   "cell_type": "code",
   "execution_count": 45,
   "id": "c7e99c55",
   "metadata": {},
   "outputs": [],
   "source": [
    "svc=SVC()\n",
    "deci=DecisionTreeClassifier()\n",
    "logi=LogisticRegression()\n",
    "rand=RandomForestClassifier(n_estimators=10)"
   ]
  },
  {
   "cell_type": "code",
   "execution_count": 112,
   "id": "577d9ee8",
   "metadata": {},
   "outputs": [],
   "source": [
    "base_learner=[(\"svc\",svc),(\"deci\",deci),(\"logi\",logi),(\"rand\",rand)]"
   ]
  },
  {
   "cell_type": "code",
   "execution_count": 47,
   "id": "ca9e9177",
   "metadata": {},
   "outputs": [],
   "source": [
    "voting=VotingClassifier(estimators=base_learner,)"
   ]
  },
  {
   "cell_type": "code",
   "execution_count": 48,
   "id": "f75ae09f",
   "metadata": {},
   "outputs": [
    {
     "data": {
      "text/html": [
       "<style>#sk-container-id-2 {color: black;background-color: white;}#sk-container-id-2 pre{padding: 0;}#sk-container-id-2 div.sk-toggleable {background-color: white;}#sk-container-id-2 label.sk-toggleable__label {cursor: pointer;display: block;width: 100%;margin-bottom: 0;padding: 0.3em;box-sizing: border-box;text-align: center;}#sk-container-id-2 label.sk-toggleable__label-arrow:before {content: \"▸\";float: left;margin-right: 0.25em;color: #696969;}#sk-container-id-2 label.sk-toggleable__label-arrow:hover:before {color: black;}#sk-container-id-2 div.sk-estimator:hover label.sk-toggleable__label-arrow:before {color: black;}#sk-container-id-2 div.sk-toggleable__content {max-height: 0;max-width: 0;overflow: hidden;text-align: left;background-color: #f0f8ff;}#sk-container-id-2 div.sk-toggleable__content pre {margin: 0.2em;color: black;border-radius: 0.25em;background-color: #f0f8ff;}#sk-container-id-2 input.sk-toggleable__control:checked~div.sk-toggleable__content {max-height: 200px;max-width: 100%;overflow: auto;}#sk-container-id-2 input.sk-toggleable__control:checked~label.sk-toggleable__label-arrow:before {content: \"▾\";}#sk-container-id-2 div.sk-estimator input.sk-toggleable__control:checked~label.sk-toggleable__label {background-color: #d4ebff;}#sk-container-id-2 div.sk-label input.sk-toggleable__control:checked~label.sk-toggleable__label {background-color: #d4ebff;}#sk-container-id-2 input.sk-hidden--visually {border: 0;clip: rect(1px 1px 1px 1px);clip: rect(1px, 1px, 1px, 1px);height: 1px;margin: -1px;overflow: hidden;padding: 0;position: absolute;width: 1px;}#sk-container-id-2 div.sk-estimator {font-family: monospace;background-color: #f0f8ff;border: 1px dotted black;border-radius: 0.25em;box-sizing: border-box;margin-bottom: 0.5em;}#sk-container-id-2 div.sk-estimator:hover {background-color: #d4ebff;}#sk-container-id-2 div.sk-parallel-item::after {content: \"\";width: 100%;border-bottom: 1px solid gray;flex-grow: 1;}#sk-container-id-2 div.sk-label:hover label.sk-toggleable__label {background-color: #d4ebff;}#sk-container-id-2 div.sk-serial::before {content: \"\";position: absolute;border-left: 1px solid gray;box-sizing: border-box;top: 0;bottom: 0;left: 50%;z-index: 0;}#sk-container-id-2 div.sk-serial {display: flex;flex-direction: column;align-items: center;background-color: white;padding-right: 0.2em;padding-left: 0.2em;position: relative;}#sk-container-id-2 div.sk-item {position: relative;z-index: 1;}#sk-container-id-2 div.sk-parallel {display: flex;align-items: stretch;justify-content: center;background-color: white;position: relative;}#sk-container-id-2 div.sk-item::before, #sk-container-id-2 div.sk-parallel-item::before {content: \"\";position: absolute;border-left: 1px solid gray;box-sizing: border-box;top: 0;bottom: 0;left: 50%;z-index: -1;}#sk-container-id-2 div.sk-parallel-item {display: flex;flex-direction: column;z-index: 1;position: relative;background-color: white;}#sk-container-id-2 div.sk-parallel-item:first-child::after {align-self: flex-end;width: 50%;}#sk-container-id-2 div.sk-parallel-item:last-child::after {align-self: flex-start;width: 50%;}#sk-container-id-2 div.sk-parallel-item:only-child::after {width: 0;}#sk-container-id-2 div.sk-dashed-wrapped {border: 1px dashed gray;margin: 0 0.4em 0.5em 0.4em;box-sizing: border-box;padding-bottom: 0.4em;background-color: white;}#sk-container-id-2 div.sk-label label {font-family: monospace;font-weight: bold;display: inline-block;line-height: 1.2em;}#sk-container-id-2 div.sk-label-container {text-align: center;}#sk-container-id-2 div.sk-container {/* jupyter's `normalize.less` sets `[hidden] { display: none; }` but bootstrap.min.css set `[hidden] { display: none !important; }` so we also need the `!important` here to be able to override the default hidden behavior on the sphinx rendered scikit-learn.org. See: https://github.com/scikit-learn/scikit-learn/issues/21755 */display: inline-block !important;position: relative;}#sk-container-id-2 div.sk-text-repr-fallback {display: none;}</style><div id=\"sk-container-id-2\" class=\"sk-top-container\"><div class=\"sk-text-repr-fallback\"><pre>VotingClassifier(estimators=[(&#x27;svc&#x27;, SVC()), (&#x27;deci&#x27;, DecisionTreeClassifier()),\n",
       "                             (&#x27;logi&#x27;, LogisticRegression()),\n",
       "                             (&#x27;rand&#x27;, RandomForestClassifier(n_estimators=10))])</pre><b>In a Jupyter environment, please rerun this cell to show the HTML representation or trust the notebook. <br />On GitHub, the HTML representation is unable to render, please try loading this page with nbviewer.org.</b></div><div class=\"sk-container\" hidden><div class=\"sk-item sk-dashed-wrapped\"><div class=\"sk-label-container\"><div class=\"sk-label sk-toggleable\"><input class=\"sk-toggleable__control sk-hidden--visually\" id=\"sk-estimator-id-2\" type=\"checkbox\" ><label for=\"sk-estimator-id-2\" class=\"sk-toggleable__label sk-toggleable__label-arrow\">VotingClassifier</label><div class=\"sk-toggleable__content\"><pre>VotingClassifier(estimators=[(&#x27;svc&#x27;, SVC()), (&#x27;deci&#x27;, DecisionTreeClassifier()),\n",
       "                             (&#x27;logi&#x27;, LogisticRegression()),\n",
       "                             (&#x27;rand&#x27;, RandomForestClassifier(n_estimators=10))])</pre></div></div></div><div class=\"sk-parallel\"><div class=\"sk-parallel-item\"><div class=\"sk-item\"><div class=\"sk-label-container\"><div class=\"sk-label sk-toggleable\"><label>svc</label></div></div><div class=\"sk-serial\"><div class=\"sk-item\"><div class=\"sk-estimator sk-toggleable\"><input class=\"sk-toggleable__control sk-hidden--visually\" id=\"sk-estimator-id-3\" type=\"checkbox\" ><label for=\"sk-estimator-id-3\" class=\"sk-toggleable__label sk-toggleable__label-arrow\">SVC</label><div class=\"sk-toggleable__content\"><pre>SVC()</pre></div></div></div></div></div></div><div class=\"sk-parallel-item\"><div class=\"sk-item\"><div class=\"sk-label-container\"><div class=\"sk-label sk-toggleable\"><label>deci</label></div></div><div class=\"sk-serial\"><div class=\"sk-item\"><div class=\"sk-estimator sk-toggleable\"><input class=\"sk-toggleable__control sk-hidden--visually\" id=\"sk-estimator-id-4\" type=\"checkbox\" ><label for=\"sk-estimator-id-4\" class=\"sk-toggleable__label sk-toggleable__label-arrow\">DecisionTreeClassifier</label><div class=\"sk-toggleable__content\"><pre>DecisionTreeClassifier()</pre></div></div></div></div></div></div><div class=\"sk-parallel-item\"><div class=\"sk-item\"><div class=\"sk-label-container\"><div class=\"sk-label sk-toggleable\"><label>logi</label></div></div><div class=\"sk-serial\"><div class=\"sk-item\"><div class=\"sk-estimator sk-toggleable\"><input class=\"sk-toggleable__control sk-hidden--visually\" id=\"sk-estimator-id-5\" type=\"checkbox\" ><label for=\"sk-estimator-id-5\" class=\"sk-toggleable__label sk-toggleable__label-arrow\">LogisticRegression</label><div class=\"sk-toggleable__content\"><pre>LogisticRegression()</pre></div></div></div></div></div></div><div class=\"sk-parallel-item\"><div class=\"sk-item\"><div class=\"sk-label-container\"><div class=\"sk-label sk-toggleable\"><label>rand</label></div></div><div class=\"sk-serial\"><div class=\"sk-item\"><div class=\"sk-estimator sk-toggleable\"><input class=\"sk-toggleable__control sk-hidden--visually\" id=\"sk-estimator-id-6\" type=\"checkbox\" ><label for=\"sk-estimator-id-6\" class=\"sk-toggleable__label sk-toggleable__label-arrow\">RandomForestClassifier</label><div class=\"sk-toggleable__content\"><pre>RandomForestClassifier(n_estimators=10)</pre></div></div></div></div></div></div></div></div></div></div>"
      ],
      "text/plain": [
       "VotingClassifier(estimators=[('svc', SVC()), ('deci', DecisionTreeClassifier()),\n",
       "                             ('logi', LogisticRegression()),\n",
       "                             ('rand', RandomForestClassifier(n_estimators=10))])"
      ]
     },
     "execution_count": 48,
     "metadata": {},
     "output_type": "execute_result"
    }
   ],
   "source": [
    "voting.fit(x_train_new,y_train_new)"
   ]
  },
  {
   "cell_type": "code",
   "execution_count": 49,
   "id": "f939b968",
   "metadata": {},
   "outputs": [],
   "source": [
    "y_pred4=voting.predict(x_test_new)"
   ]
  },
  {
   "cell_type": "code",
   "execution_count": 50,
   "id": "8211a1af",
   "metadata": {},
   "outputs": [
    {
     "name": "stdout",
     "output_type": "stream",
     "text": [
      "0.9229482977727242\n",
      "0.9866666666666667\n"
     ]
    }
   ],
   "source": [
    "print(r2_score(y_test_new,y_pred4))\n",
    "print(accuracy_score(y_test_new,y_pred4))"
   ]
  },
  {
   "cell_type": "code",
   "execution_count": null,
   "id": "a390c268",
   "metadata": {},
   "outputs": [],
   "source": []
  },
  {
   "cell_type": "code",
   "execution_count": null,
   "id": "7fc0f3a8",
   "metadata": {},
   "outputs": [],
   "source": []
  },
  {
   "cell_type": "markdown",
   "id": "f8cfee1a",
   "metadata": {},
   "source": [
    "#  User Input"
   ]
  },
  {
   "cell_type": "code",
   "execution_count": 76,
   "id": "d7e0c549",
   "metadata": {},
   "outputs": [
    {
     "data": {
      "text/html": [
       "<div>\n",
       "<style scoped>\n",
       "    .dataframe tbody tr th:only-of-type {\n",
       "        vertical-align: middle;\n",
       "    }\n",
       "\n",
       "    .dataframe tbody tr th {\n",
       "        vertical-align: top;\n",
       "    }\n",
       "\n",
       "    .dataframe thead th {\n",
       "        text-align: right;\n",
       "    }\n",
       "</style>\n",
       "<table border=\"1\" class=\"dataframe\">\n",
       "  <thead>\n",
       "    <tr style=\"text-align: right;\">\n",
       "      <th></th>\n",
       "      <th>Store Location</th>\n",
       "      <th>Code</th>\n",
       "    </tr>\n",
       "  </thead>\n",
       "  <tbody>\n",
       "    <tr>\n",
       "      <th>0</th>\n",
       "      <td>Pratap Nagar</td>\n",
       "      <td>1</td>\n",
       "    </tr>\n",
       "    <tr>\n",
       "      <th>1</th>\n",
       "      <td>Sitapura</td>\n",
       "      <td>2</td>\n",
       "    </tr>\n",
       "    <tr>\n",
       "      <th>2</th>\n",
       "      <td>Jagatpura</td>\n",
       "      <td>3</td>\n",
       "    </tr>\n",
       "    <tr>\n",
       "      <th>3</th>\n",
       "      <td>Malviya Nagar</td>\n",
       "      <td>4</td>\n",
       "    </tr>\n",
       "    <tr>\n",
       "      <th>4</th>\n",
       "      <td>Gandi Nagar</td>\n",
       "      <td>5</td>\n",
       "    </tr>\n",
       "    <tr>\n",
       "      <th>5</th>\n",
       "      <td>Raja Park</td>\n",
       "      <td>6</td>\n",
       "    </tr>\n",
       "    <tr>\n",
       "      <th>6</th>\n",
       "      <td>Durgapura</td>\n",
       "      <td>7</td>\n",
       "    </tr>\n",
       "    <tr>\n",
       "      <th>7</th>\n",
       "      <td>Gopalpura</td>\n",
       "      <td>8</td>\n",
       "    </tr>\n",
       "    <tr>\n",
       "      <th>8</th>\n",
       "      <td>Maheshnagar</td>\n",
       "      <td>9</td>\n",
       "    </tr>\n",
       "    <tr>\n",
       "      <th>9</th>\n",
       "      <td>Tonk Phatak</td>\n",
       "      <td>10</td>\n",
       "    </tr>\n",
       "    <tr>\n",
       "      <th>10</th>\n",
       "      <td>Gurjar ki Thadi</td>\n",
       "      <td>11</td>\n",
       "    </tr>\n",
       "    <tr>\n",
       "      <th>11</th>\n",
       "      <td>Shyam Nagar</td>\n",
       "      <td>12</td>\n",
       "    </tr>\n",
       "    <tr>\n",
       "      <th>12</th>\n",
       "      <td>Mansarovar</td>\n",
       "      <td>1</td>\n",
       "    </tr>\n",
       "    <tr>\n",
       "      <th>13</th>\n",
       "      <td>Nirman Nagar</td>\n",
       "      <td>14</td>\n",
       "    </tr>\n",
       "    <tr>\n",
       "      <th>14</th>\n",
       "      <td>Vaishali Nagar</td>\n",
       "      <td>15</td>\n",
       "    </tr>\n",
       "  </tbody>\n",
       "</table>\n",
       "</div>"
      ],
      "text/plain": [
       "     Store Location  Code\n",
       "0      Pratap Nagar     1\n",
       "1          Sitapura     2\n",
       "2         Jagatpura     3\n",
       "3     Malviya Nagar     4\n",
       "4       Gandi Nagar     5\n",
       "5         Raja Park     6\n",
       "6         Durgapura     7\n",
       "7         Gopalpura     8\n",
       "8       Maheshnagar     9\n",
       "9       Tonk Phatak    10\n",
       "10  Gurjar ki Thadi    11\n",
       "11      Shyam Nagar    12\n",
       "12       Mansarovar     1\n",
       "13     Nirman Nagar    14\n",
       "14   Vaishali Nagar    15"
      ]
     },
     "execution_count": 76,
     "metadata": {},
     "output_type": "execute_result"
    }
   ],
   "source": [
    "Store_code=[1,2,3,4,5,6,7,8,9,10,11,12,1,14,15]\n",
    "Store_Location=[\"Pratap Nagar\",\"Sitapura\",\"Jagatpura\",\"Malviya Nagar\",\"Gandi Nagar\",\"Raja Park\",\"Durgapura\",\"Gopalpura\",\"Maheshnagar\",\"Tonk Phatak\",\"Gurjar ki Thadi\",\"Shyam Nagar\",\"Mansarovar\",\"Nirman Nagar\",\"Vaishali Nagar\"]\n",
    "Store_location_Code=pd.DataFrame(Store_Location,columns=[\"Store Location\"])\n",
    "Store_location_Code[\"Code\"]=Store_code\n",
    "Store_location_Code"
   ]
  },
  {
   "cell_type": "code",
   "execution_count": 75,
   "id": "8105cf13",
   "metadata": {},
   "outputs": [
    {
     "data": {
      "text/html": [
       "<div>\n",
       "<style scoped>\n",
       "    .dataframe tbody tr th:only-of-type {\n",
       "        vertical-align: middle;\n",
       "    }\n",
       "\n",
       "    .dataframe tbody tr th {\n",
       "        vertical-align: top;\n",
       "    }\n",
       "\n",
       "    .dataframe thead th {\n",
       "        text-align: right;\n",
       "    }\n",
       "</style>\n",
       "<table border=\"1\" class=\"dataframe\">\n",
       "  <thead>\n",
       "    <tr style=\"text-align: right;\">\n",
       "      <th></th>\n",
       "      <th>Original</th>\n",
       "      <th>Encoded Code</th>\n",
       "    </tr>\n",
       "  </thead>\n",
       "  <tbody>\n",
       "    <tr>\n",
       "      <th>0</th>\n",
       "      <td>Adaptar</td>\n",
       "      <td>1</td>\n",
       "    </tr>\n",
       "    <tr>\n",
       "      <th>1</th>\n",
       "      <td>Battery</td>\n",
       "      <td>2</td>\n",
       "    </tr>\n",
       "    <tr>\n",
       "      <th>2</th>\n",
       "      <td>CORD</td>\n",
       "      <td>3</td>\n",
       "    </tr>\n",
       "    <tr>\n",
       "      <th>3</th>\n",
       "      <td>Cable</td>\n",
       "      <td>4</td>\n",
       "    </tr>\n",
       "    <tr>\n",
       "      <th>4</th>\n",
       "      <td>Carrying Case</td>\n",
       "      <td>5</td>\n",
       "    </tr>\n",
       "    <tr>\n",
       "      <th>5</th>\n",
       "      <td>Carrying case</td>\n",
       "      <td>6</td>\n",
       "    </tr>\n",
       "    <tr>\n",
       "      <th>6</th>\n",
       "      <td>Controller Card</td>\n",
       "      <td>7</td>\n",
       "    </tr>\n",
       "    <tr>\n",
       "      <th>7</th>\n",
       "      <td>Docking</td>\n",
       "      <td>8</td>\n",
       "    </tr>\n",
       "    <tr>\n",
       "      <th>8</th>\n",
       "      <td>Graphic Card</td>\n",
       "      <td>9</td>\n",
       "    </tr>\n",
       "    <tr>\n",
       "      <th>9</th>\n",
       "      <td>HDD_NB_DT</td>\n",
       "      <td>10</td>\n",
       "    </tr>\n",
       "    <tr>\n",
       "      <th>10</th>\n",
       "      <td>Keyboard_DT</td>\n",
       "      <td>11</td>\n",
       "    </tr>\n",
       "    <tr>\n",
       "      <th>11</th>\n",
       "      <td>Keyboard_NBK</td>\n",
       "      <td>12</td>\n",
       "    </tr>\n",
       "    <tr>\n",
       "      <th>12</th>\n",
       "      <td>LCD</td>\n",
       "      <td>13</td>\n",
       "    </tr>\n",
       "    <tr>\n",
       "      <th>13</th>\n",
       "      <td>MOUSE</td>\n",
       "      <td>14</td>\n",
       "    </tr>\n",
       "    <tr>\n",
       "      <th>14</th>\n",
       "      <td>Memory</td>\n",
       "      <td>15</td>\n",
       "    </tr>\n",
       "    <tr>\n",
       "      <th>15</th>\n",
       "      <td>Network Card</td>\n",
       "      <td>16</td>\n",
       "    </tr>\n",
       "    <tr>\n",
       "      <th>16</th>\n",
       "      <td>Nic Card</td>\n",
       "      <td>17</td>\n",
       "    </tr>\n",
       "    <tr>\n",
       "      <th>17</th>\n",
       "      <td>ODD</td>\n",
       "      <td>18</td>\n",
       "    </tr>\n",
       "    <tr>\n",
       "      <th>18</th>\n",
       "      <td>ODD Mechanical</td>\n",
       "      <td>19</td>\n",
       "    </tr>\n",
       "    <tr>\n",
       "      <th>19</th>\n",
       "      <td>ODM Mechanical</td>\n",
       "      <td>20</td>\n",
       "    </tr>\n",
       "    <tr>\n",
       "      <th>20</th>\n",
       "      <td>Projector</td>\n",
       "      <td>21</td>\n",
       "    </tr>\n",
       "    <tr>\n",
       "      <th>21</th>\n",
       "      <td>SSD_NB_DT</td>\n",
       "      <td>22</td>\n",
       "    </tr>\n",
       "    <tr>\n",
       "      <th>22</th>\n",
       "      <td>Security Lock</td>\n",
       "      <td>23</td>\n",
       "    </tr>\n",
       "    <tr>\n",
       "      <th>23</th>\n",
       "      <td>Speaker</td>\n",
       "      <td>24</td>\n",
       "    </tr>\n",
       "    <tr>\n",
       "      <th>24</th>\n",
       "      <td>Wireless</td>\n",
       "      <td>25</td>\n",
       "    </tr>\n",
       "  </tbody>\n",
       "</table>\n",
       "</div>"
      ],
      "text/plain": [
       "           Original  Encoded Code\n",
       "0           Adaptar             1\n",
       "1           Battery             2\n",
       "2              CORD             3\n",
       "3             Cable             4\n",
       "4     Carrying Case             5\n",
       "5     Carrying case             6\n",
       "6   Controller Card             7\n",
       "7           Docking             8\n",
       "8      Graphic Card             9\n",
       "9         HDD_NB_DT            10\n",
       "10      Keyboard_DT            11\n",
       "11     Keyboard_NBK            12\n",
       "12              LCD            13\n",
       "13            MOUSE            14\n",
       "14           Memory            15\n",
       "15     Network Card            16\n",
       "16         Nic Card            17\n",
       "17              ODD            18\n",
       "18   ODD Mechanical            19\n",
       "19   ODM Mechanical            20\n",
       "20        Projector            21\n",
       "21        SSD_NB_DT            22\n",
       "22    Security Lock            23\n",
       "23          Speaker            24\n",
       "24         Wireless            25"
      ]
     },
     "execution_count": 75,
     "metadata": {},
     "output_type": "execute_result"
    }
   ],
   "source": [
    "product_name=pd.DataFrame(product_name,columns=[\"Original\"])\n",
    "product_name[\"Encoded Code\"]=[1,2,3,4,5,6,7,8,9,10,11,12,13,14,15,16,17,18,19,20,21,22,23,24,25]\n",
    "product_name"
   ]
  },
  {
   "cell_type": "code",
   "execution_count": null,
   "id": "ca751ec3",
   "metadata": {},
   "outputs": [],
   "source": []
  },
  {
   "cell_type": "code",
   "execution_count": 56,
   "id": "17adfcd3",
   "metadata": {},
   "outputs": [],
   "source": [
    "# Store_code=int(input(\"Enter Store Code :\"))\n",
    "# Product_code=int(input(\"Enter Product Code :\"))\n",
    "# Sales_Quantity=int(input(\"Enter Sales_Quantity :\"))\n",
    "# Pending_Order=int(input(\"Enter Pending_Order :\"))\n",
    "\n",
    "\n"
   ]
  },
  {
   "cell_type": "code",
   "execution_count": 57,
   "id": "a7fa769c",
   "metadata": {},
   "outputs": [],
   "source": [
    "# #  0 Meaning bad\n",
    "# # 1 Meansing Fair\n",
    "# # 2 Meaning Good\n",
    "# # 3 Meaning Normal\n",
    "\n",
    "# print(voting.predict(np.array([[Store_code,Product_code,Sales_Quantity,Pending_Order]])))"
   ]
  },
  {
   "cell_type": "code",
   "execution_count": null,
   "id": "002af49e",
   "metadata": {},
   "outputs": [],
   "source": []
  },
  {
   "cell_type": "code",
   "execution_count": null,
   "id": "1db1dc49",
   "metadata": {},
   "outputs": [],
   "source": []
  },
  {
   "cell_type": "code",
   "execution_count": null,
   "id": "9c4d10fe",
   "metadata": {},
   "outputs": [],
   "source": []
  },
  {
   "cell_type": "code",
   "execution_count": null,
   "id": "878fe16d",
   "metadata": {},
   "outputs": [],
   "source": []
  },
  {
   "cell_type": "code",
   "execution_count": null,
   "id": "d541152f",
   "metadata": {},
   "outputs": [],
   "source": []
  },
  {
   "cell_type": "code",
   "execution_count": null,
   "id": "ccb5f1ea",
   "metadata": {},
   "outputs": [],
   "source": []
  }
 ],
 "metadata": {
  "kernelspec": {
   "display_name": "Python 3 (ipykernel)",
   "language": "python",
   "name": "python3"
  },
  "language_info": {
   "codemirror_mode": {
    "name": "ipython",
    "version": 3
   },
   "file_extension": ".py",
   "mimetype": "text/x-python",
   "name": "python",
   "nbconvert_exporter": "python",
   "pygments_lexer": "ipython3",
   "version": "3.10.9"
  }
 },
 "nbformat": 4,
 "nbformat_minor": 5
}
